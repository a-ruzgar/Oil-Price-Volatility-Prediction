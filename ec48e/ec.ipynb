{
 "cells": [
  {
   "cell_type": "code",
   "execution_count": 1,
   "metadata": {},
   "outputs": [],
   "source": [
    "import yfinance as yf\n",
    "import numpy as np\n",
    "import pandas as pd\n",
    "import matplotlib.pyplot as plt\n",
    "import statsmodels.api as sm"
   ]
  },
  {
   "cell_type": "code",
   "execution_count": 2,
   "metadata": {},
   "outputs": [],
   "source": [
    "tickers_1 = ['GOOGL', 'AAPL', 'AMZN', 'NVDA', 'BTC-USD', '^IXIC', 'AKBNK.IS', 'TUPRS.IS', '^SPX']\n",
    "ticker2 = ['XU100.IS']\n",
    "us_stocks = ['GOOGL', 'AAPL', 'AMZN', 'NVDA']\n",
    "tr_stocks = ['AKBNK.IS', 'TUPRS.IS']"
   ]
  },
  {
   "cell_type": "code",
   "execution_count": null,
   "metadata": {},
   "outputs": [],
   "source": [
    "data = yf.download(tickers_1, start='2017-01-01')\n",
    "data = data.loc[:, 'Adj Close']\n",
    "\n",
    "xu100 = yf.download(ticker2, start='2021-01-01')['Adj Close'].to_frame(name = 'XU100.IS')\n",
    "xu100 = xu100.asfreq('D')\n",
    "xu100.index = pd.to_datetime(xu100.index).tz_localize('UTC')\n",
    "\n",
    "dates = pd.date_range(start=data.index.min(), end=data.index.max(), freq='D')\n",
    "data = data.reindex(dates)\n",
    "xu100 = xu100.reindex(dates)\n",
    "\n",
    "data = pd.concat([data, xu100], axis=1)\n"
   ]
  },
  {
   "cell_type": "code",
   "execution_count": 4,
   "metadata": {},
   "outputs": [],
   "source": [
    "daily_data = data\n",
    "weeekly_data = data.resample('W').last()\n",
    "monthly_data = data.resample('ME').last()\n",
    "yearly_data = data.resample('YE').last()"
   ]
  },
  {
   "cell_type": "code",
   "execution_count": null,
   "metadata": {},
   "outputs": [],
   "source": [
    "daily_returns = daily_data.pct_change()\n",
    "weekly_returns = weeekly_data.pct_change()\n",
    "monthly_returns = monthly_data.pct_change()\n"
   ]
  },
  {
   "cell_type": "code",
   "execution_count": null,
   "metadata": {},
   "outputs": [],
   "source": [
    "fig, ax = plt.subplots(2, 1, figsize=(9,6)) \n",
    "ax[0].plot(daily_data['^SPX'], label='SP500', color='blue')\n",
    "ax[0].set_title('US Index: SP500')\n",
    "ax[0].set_xlabel('Date')\n",
    "ax[0].set_ylabel('Price')\n",
    "ax[0].legend()\n",
    "\n",
    "# Plot US Stocks\n",
    "ax[1].plot(daily_data['GOOGL'], label='Google', color='green')\n",
    "ax[1].plot(daily_data['AAPL'], label='Apple', color='orange')\n",
    "ax[1].plot(daily_data['AMZN'], label='Amazon', color='red')\n",
    "ax[1].plot(daily_data['NVDA'], label='Nvidia', color='yellow')\n",
    "ax[1].set_title('US Stocks')\n",
    "ax[1].set_xlabel('Date')\n",
    "ax[1].set_ylabel('Price')\n",
    "ax[1].legend()"
   ]
  },
  {
   "cell_type": "code",
   "execution_count": null,
   "metadata": {},
   "outputs": [],
   "source": [
    "fig, ax = plt.subplots(2, 1, figsize=(15,10)) \n",
    "ax[0].plot(daily_returns['^SPX'], label='SP500', linewidth=0.5, color='blue')\n",
    "ax[0].set_title('US Index: SP500')\n",
    "ax[0].set_xlabel('Date')\n",
    "ax[0].set_ylabel('% Returns')\n",
    "ax[0].legend()\n",
    "\n",
    "# Plot US Stocks\n",
    "ax[1].plot(daily_returns['GOOGL'], label='Google', linewidth=0.5, color='green')\n",
    "ax[1].plot(daily_returns['AAPL'], label='Apple', linewidth=0.5, color='orange')\n",
    "ax[1].plot(daily_returns['AMZN'], label='Amazon', linewidth=0.5, color='red')\n",
    "ax[1].plot(daily_returns['NVDA'], label='Nvidia', linewidth=0.5, color='yellow')\n",
    "ax[1].set_title('US Stocks')\n",
    "ax[1].set_xlabel('Date')\n",
    "ax[1].set_ylabel('% Returns')\n",
    "ax[1].legend()"
   ]
  },
  {
   "cell_type": "code",
   "execution_count": null,
   "metadata": {},
   "outputs": [],
   "source": [
    "fig, ax = plt.subplots(2, 1, figsize=(9,6)) \n",
    "ax[0].plot(daily_data['XU100.IS'], label='BIST', color='blue')\n",
    "ax[0].set_title('TR Index: BIST100')\n",
    "ax[0].set_xlabel('Date')\n",
    "ax[0].set_ylabel('Price')\n",
    "ax[0].legend()\n",
    "\n",
    "ax[1].plot(daily_data['AKBNK.IS'], label='AKBANK', color='green')\n",
    "ax[1].plot(daily_data['TUPRS.IS'], label='TUPRAS', color='orange')\n",
    "ax[1].set_title('TR Stocks')\n",
    "ax[1].set_xlabel('Date')\n",
    "ax[1].set_ylabel('Price')\n",
    "ax[1].legend()"
   ]
  },
  {
   "cell_type": "code",
   "execution_count": null,
   "metadata": {},
   "outputs": [],
   "source": [
    "fig, ax = plt.subplots(2, 1, figsize=(9,6)) \n",
    "ax[0].plot(daily_returns['XU100.IS'], label='BIST', linewidth=0.5, color='blue')\n",
    "ax[0].set_title('TR Index: BIST100')\n",
    "ax[0].set_xlabel('Date')\n",
    "ax[0].set_ylabel('Price')\n",
    "ax[0].legend()\n",
    "\n",
    "ax[1].plot(daily_returns[daily_returns.index>'2021-01-01']['AKBNK.IS'], label='AKBANK', linewidth=0.5, color='green')\n",
    "ax[1].plot(daily_returns[daily_returns.index>'2021-01-01']['TUPRS.IS'], label='TUPRAS', linewidth=0.5, color='orange')\n",
    "ax[1].set_title('TR Stocks')\n",
    "ax[1].set_xlabel('Date')\n",
    "ax[1].set_ylabel('Price')\n",
    "ax[1].legend()"
   ]
  },
  {
   "cell_type": "code",
   "execution_count": null,
   "metadata": {},
   "outputs": [],
   "source": [
    "print('prices')\n",
    "print(daily_data[['AAPL', 'AMZN', 'BTC-USD', 'GOOGL', 'NVDA']].agg(['mean', 'std', 'var', 'skew']))\n",
    "print(daily_data[['AKBNK.IS', 'TUPRS.IS']].agg(['mean', 'std', 'var', 'skew']))\n",
    "print()\n",
    "print('returns')\n",
    "print(daily_returns[['AAPL', 'AMZN', 'BTC-USD', 'GOOGL', 'NVDA']].agg(['mean', 'std', 'var', 'skew']))\n",
    "print(daily_returns[['AKBNK.IS', 'TUPRS.IS']].agg(['mean', 'std', 'var', 'skew']))"
   ]
  },
  {
   "cell_type": "code",
   "execution_count": null,
   "metadata": {},
   "outputs": [],
   "source": [
    "# PART 2 QUESTION 5\n",
    "y_apple = monthly_returns['AAPL']\n",
    "y_amazon = monthly_returns['AMZN']\n",
    "y_google = monthly_returns['GOOGL']\n",
    "y_nvidia = monthly_returns['NVDA']\n",
    "y_us = [y_apple, y_amazon, y_google, y_nvidia]\n",
    "\n",
    "y_tupras = monthly_returns['TUPRS.IS'][monthly_returns.index>'2021-01-01'] # for turkish stocks\n",
    "y_akbank = monthly_returns['AKBNK.IS'][monthly_returns.index>'2021-01-01'] # for turkish stocks\n",
    "y_tr = [y_tupras, y_akbank]\n",
    "\n",
    "\n",
    "x_bist = monthly_returns['XU100.IS'][monthly_returns.index>'2021-01-01'] # for turkish stocks\n",
    "x_bist = sm.add_constant(x_bist)\n",
    "\n",
    "x_nasdaq = monthly_returns['^IXIC']\n",
    "x_nasdaq = sm.add_constant(x_nasdaq)\n",
    "\n",
    "for y in y_us:    \n",
    "    model = sm.OLS(y.dropna(), x_nasdaq.dropna())\n",
    "    results = model.fit()\n",
    "    print(y.name, results.params['^IXIC'])\n",
    "\n",
    "for y in y_tr:\n",
    "    model = sm.OLS(y.iloc[1:], x_bist.dropna())\n",
    "    results = model.fit()\n",
    "    print(y.name, results.params['XU100.IS'])\n",
    "    "
   ]
  }
 ],
 "metadata": {
  "kernelspec": {
   "display_name": "Python 3",
   "language": "python",
   "name": "python3"
  },
  "language_info": {
   "codemirror_mode": {
    "name": "ipython",
    "version": 3
   },
   "file_extension": ".py",
   "mimetype": "text/x-python",
   "name": "python",
   "nbconvert_exporter": "python",
   "pygments_lexer": "ipython3",
   "version": "3.12.4"
  }
 },
 "nbformat": 4,
 "nbformat_minor": 2
}
